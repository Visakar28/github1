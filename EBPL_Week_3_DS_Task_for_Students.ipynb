{
  "nbformat": 4,
  "nbformat_minor": 0,
  "metadata": {
    "colab": {
      "provenance": [],
      "authorship_tag": "ABX9TyMSUF3GiMcFBQiFWpJR2NaM",
      "include_colab_link": true
    },
    "kernelspec": {
      "name": "python3",
      "display_name": "Python 3"
    },
    "language_info": {
      "name": "python"
    }
  },
  "cells": [
    {
      "cell_type": "markdown",
      "metadata": {
        "id": "view-in-github",
        "colab_type": "text"
      },
      "source": [
        "<a href=\"https://colab.research.google.com/github/Visakar28/github1/blob/main/EBPL_Week_3_DS_Task_for_Students.ipynb\" target=\"_parent\"><img src=\"https://colab.research.google.com/assets/colab-badge.svg\" alt=\"Open In Colab\"/></a>"
      ]
    },
    {
      "cell_type": "code",
      "execution_count": 1,
      "metadata": {
        "colab": {
          "base_uri": "https://localhost:8080/"
        },
        "id": "FgI-iKv8OjKy",
        "outputId": "6db8e3af-7696-4092-9a65-ce953466bb96"
      },
      "outputs": [
        {
          "output_type": "stream",
          "name": "stdout",
          "text": [
            "Patient Name: John Doe\n",
            "Age: 45\n",
            "BMI: 24.49\n"
          ]
        }
      ],
      "source": [
        "# Storing patient details\n",
        "patient_name = \"John Doe\"\n",
        "patient_age = 45\n",
        "patient_weight = 75  # in kg\n",
        "patient_height = 1.75  # in meters\n",
        "patient_bmi = patient_weight / (patient_height ** 2)  # BMI Calculation\n",
        "\n",
        "print(\"Patient Name:\", patient_name)\n",
        "print(\"Age:\", patient_age)\n",
        "print(\"BMI:\", round(patient_bmi, 2))\n"
      ]
    },
    {
      "cell_type": "code",
      "source": [
        "# Determine BMI category\n",
        "if patient_bmi < 18.5:\n",
        "    bmi_category = \"Underweight\"\n",
        "elif 18.5 <= patient_bmi < 24.9:\n",
        "    bmi_category = \"Normal weight\"\n",
        "elif 25 <= patient_bmi < 29.9:\n",
        "    bmi_category = \"Overweight\"\n",
        "else:\n",
        "    bmi_category = \"Obese\"\n",
        "\n",
        "print(\"BMI Category:\", bmi_category)\n"
      ],
      "metadata": {
        "colab": {
          "base_uri": "https://localhost:8080/"
        },
        "id": "KGVPDpulQQ4i",
        "outputId": "13a08d6b-9499-4a11-eac3-99ca6691cc16"
      },
      "execution_count": 2,
      "outputs": [
        {
          "output_type": "stream",
          "name": "stdout",
          "text": [
            "BMI Category: Normal weight\n"
          ]
        }
      ]
    },
    {
      "cell_type": "code",
      "source": [
        "import numpy as np\n",
        "\n",
        "# Storing heart rate readings for a week\n",
        "heart_rates = np.array([72, 75, 78, 80, 76, 74, 77])\n",
        "\n",
        "# Calculating statistics\n",
        "avg_heart_rate = np.mean(heart_rates)\n",
        "max_heart_rate = np.max(heart_rates)\n",
        "min_heart_rate = np.min(heart_rates)\n",
        "\n",
        "print(\"Average Heart Rate:\", avg_heart_rate)\n",
        "print(\"Highest Heart Rate:\", max_heart_rate)\n",
        "print(\"Lowest Heart Rate:\", min_heart_rate)\n"
      ],
      "metadata": {
        "colab": {
          "base_uri": "https://localhost:8080/"
        },
        "id": "0gPZPI2RQXhL",
        "outputId": "129583dc-54ba-40e2-c3ab-7118f4eacbe1"
      },
      "execution_count": 3,
      "outputs": [
        {
          "output_type": "stream",
          "name": "stdout",
          "text": [
            "Average Heart Rate: 76.0\n",
            "Highest Heart Rate: 80\n",
            "Lowest Heart Rate: 72\n"
          ]
        }
      ]
    },
    {
      "cell_type": "code",
      "source": [
        "import pandas as pd\n",
        "\n",
        "# Creating patient records\n",
        "data = {\n",
        "    \"Name\": [\"John Doe\", \"Alice Smith\", \"Bob Brown\", \"Emma Johnson\"],\n",
        "    \"Age\": [45, 50, 55, 60],\n",
        "    \"BMI\": [24.5, 27.3, 30.2, 35.1],\n",
        "    \"Cholesterol\": [190, 220, 240, 280]\n",
        "}\n",
        "\n",
        "# Creating DataFrame\n",
        "df = pd.DataFrame(data)\n",
        "print(\"\\nPatient Records:\\n\", df)\n"
      ],
      "metadata": {
        "colab": {
          "base_uri": "https://localhost:8080/"
        },
        "id": "rD4lZJ3dQcHC",
        "outputId": "88f2479d-c08a-4515-82f7-b5b9e080072c"
      },
      "execution_count": 4,
      "outputs": [
        {
          "output_type": "stream",
          "name": "stdout",
          "text": [
            "\n",
            "Patient Records:\n",
            "            Name  Age   BMI  Cholesterol\n",
            "0      John Doe   45  24.5          190\n",
            "1   Alice Smith   50  27.3          220\n",
            "2     Bob Brown   55  30.2          240\n",
            "3  Emma Johnson   60  35.1          280\n"
          ]
        }
      ]
    },
    {
      "cell_type": "code",
      "source": [
        "# Filtering high-risk patients (Cholesterol > 200)\n",
        "high_risk_patients = df[df[\"Cholesterol\"] > 200]\n",
        "print(\"\\nHigh-Risk Patients:\\n\", high_risk_patients)\n"
      ],
      "metadata": {
        "colab": {
          "base_uri": "https://localhost:8080/"
        },
        "id": "NElU1AVwQsCR",
        "outputId": "cfa628c3-5e06-4731-cfa6-34a8e46cb10e"
      },
      "execution_count": 5,
      "outputs": [
        {
          "output_type": "stream",
          "name": "stdout",
          "text": [
            "\n",
            "High-Risk Patients:\n",
            "            Name  Age   BMI  Cholesterol\n",
            "1   Alice Smith   50  27.3          220\n",
            "2     Bob Brown   55  30.2          240\n",
            "3  Emma Johnson   60  35.1          280\n"
          ]
        }
      ]
    },
    {
      "cell_type": "code",
      "source": [
        "# Sorting patients based on BMI (descending order)\n",
        "df_sorted = df.sort_values(by=\"BMI\", ascending=False)\n",
        "print(\"\\nSorted Patients by BMI:\\n\", df_sorted)\n"
      ],
      "metadata": {
        "colab": {
          "base_uri": "https://localhost:8080/"
        },
        "id": "irejxlgXQ-Ro",
        "outputId": "41a9651d-00f2-4b6f-e546-facf95b21c8b"
      },
      "execution_count": 6,
      "outputs": [
        {
          "output_type": "stream",
          "name": "stdout",
          "text": [
            "\n",
            "Sorted Patients by BMI:\n",
            "            Name  Age   BMI  Cholesterol\n",
            "3  Emma Johnson   60  35.1          280\n",
            "2     Bob Brown   55  30.2          240\n",
            "1   Alice Smith   50  27.3          220\n",
            "0      John Doe   45  24.5          190\n"
          ]
        }
      ]
    },
    {
      "cell_type": "code",
      "source": [
        "# Function to determine risk level\n",
        "def classify_risk(bmi, cholesterol):\n",
        "    if bmi >= 30 or cholesterol > 250:\n",
        "        return \"High\"\n",
        "    elif bmi >= 25 or cholesterol > 200:\n",
        "        return \"Medium\"\n",
        "    else:\n",
        "        return \"Low\"\n",
        "\n",
        "# Adding a \"Risk Level\" column\n",
        "df[\"Risk Level\"] = df.apply(lambda row: classify_risk(row[\"BMI\"], row[\"Cholesterol\"]), axis=1)\n",
        "\n",
        "print(\"\\nUpdated Patient Records with Risk Level:\\n\", df)\n"
      ],
      "metadata": {
        "colab": {
          "base_uri": "https://localhost:8080/"
        },
        "id": "t1waf0iHRGL4",
        "outputId": "673c9f90-fd40-4fdc-9d2f-97d079e54b59"
      },
      "execution_count": 7,
      "outputs": [
        {
          "output_type": "stream",
          "name": "stdout",
          "text": [
            "\n",
            "Updated Patient Records with Risk Level:\n",
            "            Name  Age   BMI  Cholesterol Risk Level\n",
            "0      John Doe   45  24.5          190        Low\n",
            "1   Alice Smith   50  27.3          220     Medium\n",
            "2     Bob Brown   55  30.2          240       High\n",
            "3  Emma Johnson   60  35.1          280       High\n"
          ]
        }
      ]
    },
    {
      "cell_type": "code",
      "source": [
        "# Save to CSV file\n",
        "df.to_csv(\"processed_patient_data.csv\", index=False)\n",
        "\n",
        "print(\"\\nPatient data saved as 'processed_patient_data.csv'.\")\n"
      ],
      "metadata": {
        "colab": {
          "base_uri": "https://localhost:8080/"
        },
        "id": "mj67lj1-RZ3H",
        "outputId": "921b05f9-0efd-4338-9d00-676116d75f8a"
      },
      "execution_count": 10,
      "outputs": [
        {
          "output_type": "stream",
          "name": "stdout",
          "text": [
            "\n",
            "Patient data saved as 'processed_patient_data.csv'.\n"
          ]
        }
      ]
    }
  ]
}