{
  "cells": [
    {
      "cell_type": "markdown",
      "metadata": {
        "id": "view-in-github",
        "colab_type": "text"
      },
      "source": [
        "<a href=\"https://colab.research.google.com/github/Visakar28/github1/blob/main/DS_Week_4.ipynb\" target=\"_parent\"><img src=\"https://colab.research.google.com/assets/colab-badge.svg\" alt=\"Open In Colab\"/></a>"
      ]
    },
    {
      "cell_type": "code",
      "execution_count": null,
      "metadata": {
        "colab": {
          "background_save": true
        },
        "id": "o63ofA9Upe3K",
        "outputId": "3dcf72f8-b50e-4b04-c43d-facfde3a6e0e"
      },
      "outputs": [
        {
          "name": "stdout",
          "output_type": "stream",
          "text": [
            "      Name   Age  Marks  Attendance Passed\n",
            "0    Alice  20.0   85.0        90.0    Yes\n",
            "1      Bob  21.0    NaN        80.0     No\n",
            "2  Charlie   NaN   78.0         NaN    Yes\n",
            "3    David  22.0   90.0        85.0    Yes\n",
            "4      Eve  20.0   88.0        95.0     No\n"
          ]
        }
      ],
      "source": [
        "import pandas as pd\n",
        "df = pd.read_csv('students_dataset.csv')\n",
        "print(df.head())"
      ]
    },
    {
      "cell_type": "code",
      "source": [
        "from google.colab import drive\n",
        "drive.mount('/content/drive')"
      ],
      "metadata": {
        "id": "y6GAp9JswWV3"
      },
      "execution_count": null,
      "outputs": []
    },
    {
      "cell_type": "code",
      "execution_count": null,
      "metadata": {
        "colab": {
          "base_uri": "https://localhost:8080/"
        },
        "id": "MzyXKcdxqONd",
        "outputId": "72b55c47-1727-4925-e146-45dc2c5ceecc"
      },
      "outputs": [
        {
          "name": "stdout",
          "output_type": "stream",
          "text": [
            "Name          0\n",
            "Age           4\n",
            "Marks         4\n",
            "Attendance    4\n",
            "Passed        0\n",
            "dtype: int64\n"
          ]
        }
      ],
      "source": [
        "print(df.isnull().sum())"
      ]
    },
    {
      "cell_type": "code",
      "execution_count": null,
      "metadata": {
        "colab": {
          "base_uri": "https://localhost:8080/"
        },
        "id": "9bYKIRkpqYpf",
        "outputId": "1215474c-dc35-41c2-bccb-6e2c635fca73"
      },
      "outputs": [
        {
          "name": "stdout",
          "output_type": "stream",
          "text": [
            "     Name   Age  Marks  Attendance Passed\n",
            "0   Alice  20.0   85.0        90.0    Yes\n",
            "3   David  22.0   90.0        85.0    Yes\n",
            "4     Eve  20.0   88.0        95.0     No\n",
            "8     Ivy  24.0   92.0        92.0    Yes\n",
            "12   Mona  21.0   83.0        80.0     No\n"
          ]
        }
      ],
      "source": [
        "df_cleaned = df.dropna() # Removes rows with missing values\n",
        "print(df_cleaned)"
      ]
    },
    {
      "cell_type": "code",
      "execution_count": null,
      "metadata": {
        "colab": {
          "base_uri": "https://localhost:8080/"
        },
        "id": "x9fknhslq38i",
        "outputId": "5a76f4ce-022f-445a-9129-b52c7bb47f08"
      },
      "outputs": [
        {
          "name": "stdout",
          "output_type": "stream",
          "text": [
            "       Name   Age  Marks  Attendance Passed\n",
            "0     Alice  20.0   85.0       90.00    Yes\n",
            "1       Bob  21.0   82.0       80.00     No\n",
            "2   Charlie  22.0   78.0       85.25    Yes\n",
            "3     David  22.0   90.0       85.00    Yes\n",
            "4       Eve  20.0   88.0       95.00     No\n",
            "5     Frank  22.0   76.0       70.00    Yes\n",
            "6     Grace  23.0   82.0       88.00     No\n",
            "7      Hank  21.0   80.0       85.25    Yes\n",
            "8       Ivy  24.0   92.0       92.00    Yes\n",
            "9      Jack  22.0   79.0       85.00     No\n",
            "10    Kelly  22.0   82.0       78.00    Yes\n",
            "11      Leo  23.0   87.0       85.25    Yes\n",
            "12     Mona  21.0   83.0       80.00     No\n",
            "13     Nina  22.0   77.0       89.00    Yes\n",
            "14    Oscar  25.0   82.0       91.00     No\n",
            "15     Paul  22.0   81.0       85.25    Yes\n"
          ]
        },
        {
          "name": "stderr",
          "output_type": "stream",
          "text": [
            "<ipython-input-15-25fb2e65706e>:1: FutureWarning: A value is trying to be set on a copy of a DataFrame or Series through chained assignment using an inplace method.\n",
            "The behavior will change in pandas 3.0. This inplace method will never work because the intermediate object on which we are setting values always behaves as a copy.\n",
            "\n",
            "For example, when doing 'df[col].method(value, inplace=True)', try using 'df.method({col: value}, inplace=True)' or df[col] = df[col].method(value) instead, to perform the operation inplace on the original object.\n",
            "\n",
            "\n",
            "  df[\"Age\"].fillna(df[\"Age\"].mean(), inplace=True)\n",
            "<ipython-input-15-25fb2e65706e>:2: FutureWarning: A value is trying to be set on a copy of a DataFrame or Series through chained assignment using an inplace method.\n",
            "The behavior will change in pandas 3.0. This inplace method will never work because the intermediate object on which we are setting values always behaves as a copy.\n",
            "\n",
            "For example, when doing 'df[col].method(value, inplace=True)', try using 'df.method({col: value}, inplace=True)' or df[col] = df[col].method(value) instead, to perform the operation inplace on the original object.\n",
            "\n",
            "\n",
            "  df[\"Marks\"].fillna(df[\"Marks\"].median(), inplace=True)\n",
            "<ipython-input-15-25fb2e65706e>:3: FutureWarning: A value is trying to be set on a copy of a DataFrame or Series through chained assignment using an inplace method.\n",
            "The behavior will change in pandas 3.0. This inplace method will never work because the intermediate object on which we are setting values always behaves as a copy.\n",
            "\n",
            "For example, when doing 'df[col].method(value, inplace=True)', try using 'df.method({col: value}, inplace=True)' or df[col] = df[col].method(value) instead, to perform the operation inplace on the original object.\n",
            "\n",
            "\n",
            "  df[\"Attendance\"].fillna(df[\"Attendance\"].mean(),inplace=True)\n"
          ]
        }
      ],
      "source": [
        "df[\"Age\"].fillna(df[\"Age\"].mean(), inplace=True)\n",
        "df[\"Marks\"].fillna(df[\"Marks\"].median(), inplace=True)\n",
        "df[\"Attendance\"].fillna(df[\"Attendance\"].mean(),inplace=True)\n",
        "print(df)"
      ]
    },
    {
      "cell_type": "code",
      "execution_count": null,
      "metadata": {
        "colab": {
          "base_uri": "https://localhost:8080/"
        },
        "id": "KKG1BfRWrvQ2",
        "outputId": "818a77cf-cff1-40fb-9804-c82ede7722de"
      },
      "outputs": [
        {
          "name": "stdout",
          "output_type": "stream",
          "text": [
            "       Name   Age  Marks  Attendance Passed\n",
            "0     Alice  20.0   85.0       90.00    Yes\n",
            "1       Bob  21.0   82.0       80.00     No\n",
            "2   Charlie  22.0   78.0       85.25    Yes\n",
            "3     David  22.0   90.0       85.00    Yes\n",
            "4       Eve  20.0   88.0       95.00     No\n",
            "5     Frank  22.0   76.0       70.00    Yes\n",
            "6     Grace  23.0   82.0       88.00     No\n",
            "7      Hank  21.0   80.0       85.25    Yes\n",
            "8       Ivy  24.0   92.0       92.00    Yes\n",
            "9      Jack  22.0   79.0       85.00     No\n",
            "10    Kelly  22.0   82.0       78.00    Yes\n",
            "11      Leo  23.0   87.0       85.25    Yes\n",
            "12     Mona  21.0   83.0       80.00     No\n",
            "13     Nina  22.0   77.0       89.00    Yes\n",
            "14    Oscar  25.0   82.0       91.00     No\n",
            "15     Paul  22.0   81.0       85.25    Yes\n"
          ]
        },
        {
          "name": "stderr",
          "output_type": "stream",
          "text": [
            "<ipython-input-23-fb9acbd060a0>:1: FutureWarning: A value is trying to be set on a copy of a DataFrame or Series through chained assignment using an inplace method.\n",
            "The behavior will change in pandas 3.0. This inplace method will never work because the intermediate object on which we are setting values always behaves as a copy.\n",
            "\n",
            "For example, when doing 'df[col].method(value, inplace=True)', try using 'df.method({col: value}, inplace=True)' or df[col] = df[col].method(value) instead, to perform the operation inplace on the original object.\n",
            "\n",
            "\n",
            "  df[\"Passed\"].fillna(df[\"Passed\"].mode()[0], inplace=True)\n"
          ]
        }
      ],
      "source": [
        "df[\"Passed\"].fillna(df[\"Passed\"].mode()[0], inplace=True)\n",
        "print(df)"
      ]
    },
    {
      "cell_type": "code",
      "execution_count": null,
      "metadata": {
        "colab": {
          "base_uri": "https://localhost:8080/"
        },
        "id": "HRYKCK4mtme9",
        "outputId": "64d9a163-4d27-4cbd-f6e5-f7ea08936419"
      },
      "outputs": [
        {
          "name": "stdout",
          "output_type": "stream",
          "text": [
            "       Name   Age  Marks  Attendance Passed\n",
            "0     Alice  20.0   85.0       90.00    Yes\n",
            "1       Bob  21.0   82.0       80.00     No\n",
            "2   Charlie  22.0   78.0       85.25    Yes\n",
            "3     David  22.0   90.0       85.00    Yes\n",
            "4       Eve  20.0   88.0       95.00     No\n",
            "5     Frank  22.0   76.0       70.00    Yes\n",
            "6     Grace  23.0   82.0       88.00     No\n",
            "7      Hank  21.0   80.0       85.25    Yes\n",
            "8       Ivy  24.0   92.0       92.00    Yes\n",
            "9      Jack  22.0   79.0       85.00     No\n",
            "10    Kelly  22.0   82.0       78.00    Yes\n",
            "11      Leo  23.0   87.0       85.25    Yes\n",
            "12     Mona  21.0   83.0       80.00     No\n",
            "13     Nina  22.0   77.0       89.00    Yes\n",
            "14    Oscar  25.0   82.0       91.00     No\n",
            "15     Paul  22.0   81.0       85.25    Yes\n"
          ]
        }
      ],
      "source": [
        "df.ffill(inplace=True) # Forward fill\n",
        "df.bfill(inplace=True) # Backward fill\n",
        "print(df)"
      ]
    },
    {
      "cell_type": "code",
      "execution_count": null,
      "metadata": {
        "colab": {
          "base_uri": "https://localhost:8080/"
        },
        "id": "XcwLSjmovd-J",
        "outputId": "0fc4da97-dace-4627-e1a9-dc92bd27abc9"
      },
      "outputs": [
        {
          "name": "stdout",
          "output_type": "stream",
          "text": [
            "       Name   Age  Marks  Attendance Passed\n",
            "0     Alice  20.0   85.0       90.00    Yes\n",
            "1       Bob  21.0   82.0       80.00     No\n",
            "2   Charlie  22.0   78.0       85.25    Yes\n",
            "3     David  22.0   90.0       85.00    Yes\n",
            "4       Eve  20.0   88.0       95.00     No\n",
            "5     Frank  22.0   76.0       70.00    Yes\n",
            "6     Grace  23.0   82.0       88.00     No\n",
            "7      Hank  21.0   80.0       85.25    Yes\n",
            "8       Ivy  24.0   92.0       92.00    Yes\n",
            "9      Jack  22.0   79.0       85.00     No\n",
            "10    Kelly  22.0   82.0       78.00    Yes\n",
            "11      Leo  23.0   87.0       85.25    Yes\n",
            "12     Mona  21.0   83.0       80.00     No\n",
            "13     Nina  22.0   77.0       89.00    Yes\n",
            "14    Oscar  25.0   82.0       91.00     No\n",
            "15     Paul  22.0   81.0       85.25    Yes\n"
          ]
        }
      ],
      "source": [
        "df.drop_duplicates(inplace=True)\n",
        "print(df)"
      ]
    },
    {
      "cell_type": "code",
      "execution_count": null,
      "metadata": {
        "colab": {
          "base_uri": "https://localhost:8080/"
        },
        "id": "-o-jLkQgx2ay",
        "outputId": "8a96ec94-0246-4340-c339-456618254c48"
      },
      "outputs": [
        {
          "name": "stdout",
          "output_type": "stream",
          "text": [
            "       Name   Age     Marks  Attendance Passed\n",
            "0     Alice  20.0  0.505490    0.804154    Yes\n",
            "1       Bob  21.0 -0.168497   -0.888802     No\n",
            "2   Charlie  22.0 -1.067146    0.000000    Yes\n",
            "3     David  22.0  1.628802   -0.042324    Yes\n",
            "4       Eve  20.0  1.179478    1.650632     No\n",
            "5     Frank  22.0 -1.516471   -2.581758    Yes\n",
            "6     Grace  23.0 -0.168497    0.465563     No\n",
            "7      Hank  21.0 -0.617822    0.000000    Yes\n",
            "8       Ivy  24.0  2.078127    1.142745    Yes\n",
            "9      Jack  22.0 -0.842484   -0.042324     No\n",
            "10    Kelly  22.0 -0.168497   -1.227393    Yes\n",
            "11      Leo  23.0  0.954815    0.000000    Yes\n",
            "12     Mona  21.0  0.056166   -0.888802     No\n",
            "13     Nina  22.0 -1.291809    0.634858    Yes\n",
            "14    Oscar  25.0 -0.168497    0.973450     No\n",
            "15     Paul  22.0 -0.393159    0.000000    Yes\n"
          ]
        }
      ],
      "source": [
        "from sklearn.preprocessing import StandardScaler\n",
        "scaler = StandardScaler()\n",
        "df_scaled = df.copy()\n",
        "df_scaled[[\"Marks\", \"Attendance\"]] =scaler.fit_transform(df[[\"Marks\", \"Attendance\"]])\n",
        "print(df_scaled)"
      ]
    },
    {
      "cell_type": "code",
      "execution_count": null,
      "metadata": {
        "colab": {
          "base_uri": "https://localhost:8080/"
        },
        "id": "JxsqQO3AzoG2",
        "outputId": "ecbe0309-e40c-4c81-a764-dbdeea7a70c8"
      },
      "outputs": [
        {
          "name": "stdout",
          "output_type": "stream",
          "text": [
            "       Name   Age   Marks  Attendance Passed\n",
            "0     Alice  20.0  0.5625        0.80    Yes\n",
            "1       Bob  21.0  0.3750        0.40     No\n",
            "2   Charlie  22.0  0.1250        0.61    Yes\n",
            "3     David  22.0  0.8750        0.60    Yes\n",
            "4       Eve  20.0  0.7500        1.00     No\n",
            "5     Frank  22.0  0.0000        0.00    Yes\n",
            "6     Grace  23.0  0.3750        0.72     No\n",
            "7      Hank  21.0  0.2500        0.61    Yes\n",
            "8       Ivy  24.0  1.0000        0.88    Yes\n",
            "9      Jack  22.0  0.1875        0.60     No\n",
            "10    Kelly  22.0  0.3750        0.32    Yes\n",
            "11      Leo  23.0  0.6875        0.61    Yes\n",
            "12     Mona  21.0  0.4375        0.40     No\n",
            "13     Nina  22.0  0.0625        0.76    Yes\n",
            "14    Oscar  25.0  0.3750        0.84     No\n",
            "15     Paul  22.0  0.3125        0.61    Yes\n"
          ]
        }
      ],
      "source": [
        "from sklearn.preprocessing import MinMaxScaler\n",
        "scaler = MinMaxScaler()\n",
        "df_scaled[[\"Marks\", \"Attendance\"]] =scaler.fit_transform(df[[\"Marks\", \"Attendance\"]])\n",
        "print(df_scaled)"
      ]
    },
    {
      "cell_type": "code",
      "execution_count": null,
      "metadata": {
        "colab": {
          "base_uri": "https://localhost:8080/"
        },
        "id": "q7NbZy_B0wQR",
        "outputId": "266160b1-9a93-4d82-d4f1-5408eaf5b752"
      },
      "outputs": [
        {
          "name": "stdout",
          "output_type": "stream",
          "text": [
            "       Name   Age  Marks  Attendance  Passed_Yes\n",
            "0     Alice  20.0   85.0        90.0        True\n",
            "1       Bob  21.0    NaN        80.0       False\n",
            "2   Charlie   NaN   78.0         NaN        True\n",
            "3     David  22.0   90.0        85.0        True\n",
            "4       Eve  20.0   88.0        95.0       False\n",
            "5     Frank   NaN   76.0        70.0        True\n",
            "6     Grace  23.0    NaN        88.0       False\n",
            "7      Hank  21.0   80.0         NaN        True\n",
            "8       Ivy  24.0   92.0        92.0        True\n",
            "9      Jack   NaN   79.0        85.0       False\n",
            "10    Kelly  22.0    NaN        78.0        True\n",
            "11      Leo  23.0   87.0         NaN        True\n",
            "12     Mona  21.0   83.0        80.0       False\n",
            "13     Nina   NaN   77.0        89.0        True\n",
            "14    Oscar  25.0    NaN        91.0       False\n",
            "15     Paul  22.0   81.0         NaN        True\n"
          ]
        }
      ],
      "source": [
        "df_encoded = pd.get_dummies(df, columns=[\"Passed\"],drop_first=True)\n",
        "print(df_encoded)"
      ]
    },
    {
      "cell_type": "code",
      "execution_count": null,
      "metadata": {
        "colab": {
          "base_uri": "https://localhost:8080/"
        },
        "id": "5QnwHumb1gPi",
        "outputId": "748e4487-bdc9-47ae-b67d-51eb76ee0e18"
      },
      "outputs": [
        {
          "name": "stdout",
          "output_type": "stream",
          "text": [
            "       Name   Age  Marks  Attendance  Passed\n",
            "0     Alice  20.0   85.0       90.00       1\n",
            "1       Bob  21.0   82.0       80.00       0\n",
            "2   Charlie  22.0   78.0       85.25       1\n",
            "3     David  22.0   90.0       85.00       1\n",
            "4       Eve  20.0   88.0       95.00       0\n",
            "5     Frank  22.0   76.0       70.00       1\n",
            "6     Grace  23.0   82.0       88.00       0\n",
            "7      Hank  21.0   80.0       85.25       1\n",
            "8       Ivy  24.0   92.0       92.00       1\n",
            "9      Jack  22.0   79.0       85.00       0\n",
            "10    Kelly  22.0   82.0       78.00       1\n",
            "11      Leo  23.0   87.0       85.25       1\n",
            "12     Mona  21.0   83.0       80.00       0\n",
            "13     Nina  22.0   77.0       89.00       1\n",
            "14    Oscar  25.0   82.0       91.00       0\n",
            "15     Paul  22.0   81.0       85.25       1\n"
          ]
        }
      ],
      "source": [
        "from sklearn.preprocessing import LabelEncoder\n",
        "encoder = LabelEncoder()\n",
        "df[\"Passed\"] = encoder.fit_transform(df[\"Passed\"])\n",
        "print(df)"
      ]
    },
    {
      "cell_type": "code",
      "execution_count": null,
      "metadata": {
        "colab": {
          "base_uri": "https://localhost:8080/"
        },
        "id": "TxSVj5yf10qr",
        "outputId": "4fa1ec0e-c2ac-4e79-d8af-7a025a098f06"
      },
      "outputs": [
        {
          "name": "stdout",
          "output_type": "stream",
          "text": [
            "       Name   Age  Marks  Attendance  Passed Performance\n",
            "0     Alice  20.0   85.0       90.00       1        High\n",
            "1       Bob  21.0   82.0       80.00       0      Medium\n",
            "2   Charlie  22.0   78.0       85.25       1      Medium\n",
            "3     David  22.0   90.0       85.00       1        High\n",
            "4       Eve  20.0   88.0       95.00       0        High\n",
            "5     Frank  22.0   76.0       70.00       1      Medium\n",
            "6     Grace  23.0   82.0       88.00       0      Medium\n",
            "7      Hank  21.0   80.0       85.25       1      Medium\n",
            "8       Ivy  24.0   92.0       92.00       1        High\n",
            "9      Jack  22.0   79.0       85.00       0      Medium\n",
            "10    Kelly  22.0   82.0       78.00       1      Medium\n",
            "11      Leo  23.0   87.0       85.25       1        High\n",
            "12     Mona  21.0   83.0       80.00       0      Medium\n",
            "13     Nina  22.0   77.0       89.00       1      Medium\n",
            "14    Oscar  25.0   82.0       91.00       0      Medium\n",
            "15     Paul  22.0   81.0       85.25       1      Medium\n"
          ]
        }
      ],
      "source": [
        "def performance_category(marks):\n",
        "    if marks >= 85:\n",
        "        return \"High\"\n",
        "    elif marks >= 70:\n",
        "        return \"Medium\"\n",
        "    else:\n",
        "        return \"Low\"\n",
        "\n",
        "df[\"Performance\"] = df[\"Marks\"].apply(performance_category)\n",
        "print(df)"
      ]
    },
    {
      "cell_type": "code",
      "execution_count": null,
      "metadata": {
        "colab": {
          "base_uri": "https://localhost:8080/"
        },
        "id": "Z8TM5Qmp2b_G",
        "outputId": "917e9c77-3d6b-405e-cf69-8bb275964cb9"
      },
      "outputs": [
        {
          "name": "stdout",
          "output_type": "stream",
          "text": [
            "       Name   Age  Marks  Attendance  Passed Performance Age_Group\n",
            "0     Alice  20.0   85.0       90.00       1        High     Young\n",
            "1       Bob  21.0   82.0       80.00       0      Medium     Young\n",
            "2   Charlie  22.0   78.0       85.25       1      Medium     Adult\n",
            "3     David  22.0   90.0       85.00       1        High     Adult\n",
            "4       Eve  20.0   88.0       95.00       0        High     Young\n",
            "5     Frank  22.0   76.0       70.00       1      Medium     Adult\n",
            "6     Grace  23.0   82.0       88.00       0      Medium     Adult\n",
            "7      Hank  21.0   80.0       85.25       1      Medium     Young\n",
            "8       Ivy  24.0   92.0       92.00       1        High     Adult\n",
            "9      Jack  22.0   79.0       85.00       0      Medium     Adult\n",
            "10    Kelly  22.0   82.0       78.00       1      Medium     Adult\n",
            "11      Leo  23.0   87.0       85.25       1        High     Adult\n",
            "12     Mona  21.0   83.0       80.00       0      Medium     Young\n",
            "13     Nina  22.0   77.0       89.00       1      Medium     Adult\n",
            "14    Oscar  25.0   82.0       91.00       0      Medium       NaN\n",
            "15     Paul  22.0   81.0       85.25       1      Medium     Adult\n"
          ]
        }
      ],
      "source": [
        "df[\"Age_Group\"] = pd.cut(df[\"Age\"], bins=[18, 21, 24],\n",
        "labels=[\"Young\", \"Adult\"])\n",
        "print(df)"
      ]
    }
  ],
  "metadata": {
    "colab": {
      "provenance": [],
      "authorship_tag": "ABX9TyNw5YU91hDX4lW8S5Z142t6",
      "include_colab_link": true
    },
    "kernelspec": {
      "display_name": "Python 3",
      "name": "python3"
    },
    "language_info": {
      "name": "python"
    }
  },
  "nbformat": 4,
  "nbformat_minor": 0
}